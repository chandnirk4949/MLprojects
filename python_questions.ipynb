{
 "cells": [
  {
   "cell_type": "code",
   "execution_count": 43,
   "id": "bac851fe",
   "metadata": {},
   "outputs": [
    {
     "name": "stdout",
     "output_type": "stream",
     "text": [
      "enter a number  407\n",
      "the number is armstrong\n"
     ]
    }
   ],
   "source": [
    "# program to fing armstrong number\n",
    "\n",
    "\n",
    "def armstrong():\n",
    "    a=str(input('enter a number  '))\n",
    "    i=0\n",
    "    x=0\n",
    "    while i < len(a):\n",
    "        x+=int(a[i])**3\n",
    "        i+=1\n",
    "\n",
    "    if x==int(a):\n",
    "        print(\"the number is armstrong\")\n",
    "    else:\n",
    "        print(\"the number is not armstrong\")\n",
    "        \n",
    "\n",
    "armstrong()    \n",
    "  "
   ]
  },
  {
   "cell_type": "code",
   "execution_count": 45,
   "id": "a957b60a",
   "metadata": {},
   "outputs": [
    {
     "name": "stdout",
     "output_type": "stream",
     "text": [
      "enter a number  100\n",
      "the number is not armstrong\n"
     ]
    }
   ],
   "source": [
    "armstrong()"
   ]
  },
  {
   "cell_type": "code",
   "execution_count": null,
   "id": "31d1bfd4",
   "metadata": {},
   "outputs": [],
   "source": []
  },
  {
   "cell_type": "code",
   "execution_count": 46,
   "id": "b378bf32",
   "metadata": {},
   "outputs": [
    {
     "name": "stdout",
     "output_type": "stream",
     "text": [
      "enter the number:  47\n",
      "it is a prime number\n"
     ]
    }
   ],
   "source": [
    "#Checking for Prime number\n",
    "\n",
    "def prime():\n",
    "    a=int(input(\"enter the number:  \"))\n",
    "    flag=0\n",
    "    i=2\n",
    "    while i<a:\n",
    "        if a%i==0:\n",
    "            flag=1\n",
    "            break\n",
    "            \n",
    "        i+=1\n",
    "        \n",
    "    if flag==0:\n",
    "        print(\"it is a prime number\")\n",
    "    else:\n",
    "        print('it is not a prime number')\n",
    "        \n",
    "            \n",
    "            \n",
    "prime()   "
   ]
  },
  {
   "cell_type": "code",
   "execution_count": 47,
   "id": "d097b5ef",
   "metadata": {},
   "outputs": [
    {
     "name": "stdout",
     "output_type": "stream",
     "text": [
      "enter the number:  48\n",
      "it is not a prime number\n"
     ]
    }
   ],
   "source": [
    "prime()"
   ]
  },
  {
   "cell_type": "code",
   "execution_count": null,
   "id": "7272fc79",
   "metadata": {},
   "outputs": [],
   "source": []
  },
  {
   "cell_type": "code",
   "execution_count": 48,
   "id": "05ed7886",
   "metadata": {},
   "outputs": [
    {
     "name": "stdout",
     "output_type": "stream",
     "text": [
      "first N natural numbers:  3\n",
      "sum of squares of first  3 natural numbers is  14\n"
     ]
    }
   ],
   "source": [
    "#Sum of squares of N Natural Numbers\n",
    "\n",
    "def sq_sum():\n",
    "    lim=int(input(\"first N natural numbers:  \"))\n",
    "    s=0\n",
    "    i=1\n",
    "    while i<=lim:\n",
    "        s+=i**2\n",
    "        i+=1\n",
    "        \n",
    "    print(\"sum of squares of first \",lim,\"natural numbers is \",s)\n",
    "\n",
    "sq_sum()\n",
    "        \n"
   ]
  },
  {
   "cell_type": "code",
   "execution_count": 49,
   "id": "a5e9021c",
   "metadata": {},
   "outputs": [
    {
     "name": "stdout",
     "output_type": "stream",
     "text": [
      "first N natural numbers:  10\n",
      "sum of squares of first  10 natural numbers is  385\n"
     ]
    }
   ],
   "source": [
    "sq_sum()"
   ]
  },
  {
   "cell_type": "code",
   "execution_count": null,
   "id": "7d3da118",
   "metadata": {},
   "outputs": [],
   "source": []
  },
  {
   "cell_type": "code",
   "execution_count": 24,
   "id": "e140c11e",
   "metadata": {},
   "outputs": [
    {
     "name": "stdout",
     "output_type": "stream",
     "text": [
      "odd numbers in the list  [1, 3, 5, 7, 9]\n",
      "even numbers in the list  [2, 4, 6, 8, 10]\n"
     ]
    }
   ],
   "source": [
    "#Python program to print even numbers in a list\n",
    "lst=[1,2,3,4,5,6,7,8,9,10]\n",
    "even_num=[]\n",
    "odd_num=[]\n",
    "for i in lst:\n",
    "    if i%2==0:\n",
    "        even_num.append(i)\n",
    "    else:\n",
    "        odd_num.append(i)\n",
    "        \n",
    "print(\"odd numbers in the list \",odd_num)\n",
    "print(\"even numbers in the list \",even_num)"
   ]
  },
  {
   "cell_type": "code",
   "execution_count": null,
   "id": "2a3db062",
   "metadata": {},
   "outputs": [],
   "source": []
  },
  {
   "cell_type": "code",
   "execution_count": 34,
   "id": "d545773a",
   "metadata": {},
   "outputs": [
    {
     "name": "stdout",
     "output_type": "stream",
     "text": [
      "enter a string: malayalam\n",
      "the given string is palindrome\n"
     ]
    }
   ],
   "source": [
    "#Python program to check if a string is palindrome or not\n",
    "\n",
    "\n",
    "def palindrome():\n",
    "    a=str(input('enter a string: '))\n",
    "    flag=0\n",
    "    i=0\n",
    "    \n",
    "    while i<len(a)//2:\n",
    "        if a[i]!=a[-(i+1)]:\n",
    "            flag=1\n",
    "            break\n",
    "            \n",
    "        i+=1\n",
    "      \n",
    "    \n",
    "    if flag==0:\n",
    "        print(\"the given string is palindrome\")\n",
    "            \n",
    "    else:\n",
    "        print(\"the given string is not a palindrome\")\n",
    "        \n",
    "\n",
    "        \n",
    "palindrome()"
   ]
  },
  {
   "cell_type": "code",
   "execution_count": 35,
   "id": "45d33955",
   "metadata": {},
   "outputs": [
    {
     "name": "stdout",
     "output_type": "stream",
     "text": [
      "enter a string: hydye\n",
      "the given string is not a palindrome\n"
     ]
    }
   ],
   "source": [
    "palindrome()"
   ]
  },
  {
   "cell_type": "code",
   "execution_count": null,
   "id": "865edb1a",
   "metadata": {},
   "outputs": [],
   "source": []
  },
  {
   "cell_type": "code",
   "execution_count": 42,
   "id": "c25588cc",
   "metadata": {},
   "outputs": [
    {
     "name": "stdout",
     "output_type": "stream",
     "text": [
      "enter the number: 111\n",
      "sum od digits in  111 is  3\n"
     ]
    }
   ],
   "source": [
    "#Calculate the sum of digits (123 - 6, 1000 - 1)\n",
    "\n",
    "def sum_digits():\n",
    "    a=str(input(\"enter the number: \"))\n",
    "    s=0\n",
    "    for i in a:\n",
    "        s+=int(i)\n",
    "        \n",
    "    print(\"sum od digits in \",a, \"is \",s)\n",
    "          \n",
    "          \n",
    "sum_digits()\n",
    "\n"
   ]
  },
  {
   "cell_type": "code",
   "execution_count": 40,
   "id": "169a39dd",
   "metadata": {},
   "outputs": [
    {
     "name": "stdout",
     "output_type": "stream",
     "text": [
      "enter the number: 123\n",
      "sum od digits in  123 is  6\n"
     ]
    }
   ],
   "source": [
    "sum_digits()"
   ]
  },
  {
   "cell_type": "code",
   "execution_count": null,
   "id": "bf69b896",
   "metadata": {},
   "outputs": [],
   "source": []
  },
  {
   "cell_type": "code",
   "execution_count": 36,
   "id": "c9e1a357",
   "metadata": {},
   "outputs": [
    {
     "name": "stdout",
     "output_type": "stream",
     "text": [
      "[5, 2, 3, 4, 1]\n"
     ]
    }
   ],
   "source": [
    "#Python program to interchange first and last elements in a list\n",
    "\n",
    "lst=[1,2,3,4,5]\n",
    "temp=lst[-1]\n",
    "lst[-1]=lst[0]\n",
    "lst[0]=temp\n",
    "print(lst)"
   ]
  },
  {
   "cell_type": "code",
   "execution_count": null,
   "id": "88195544",
   "metadata": {},
   "outputs": [],
   "source": []
  },
  {
   "cell_type": "code",
   "execution_count": null,
   "id": "e9fa63aa",
   "metadata": {},
   "outputs": [],
   "source": []
  },
  {
   "cell_type": "code",
   "execution_count": null,
   "id": "cf276594",
   "metadata": {},
   "outputs": [],
   "source": [
    "#factorial of a number"
   ]
  },
  {
   "cell_type": "code",
   "execution_count": 2,
   "id": "a822770f",
   "metadata": {},
   "outputs": [
    {
     "name": "stdout",
     "output_type": "stream",
     "text": [
      "enter the number:  5\n",
      "factorial of  5  is  120\n"
     ]
    }
   ],
   "source": [
    "def fact():\n",
    "    x=int(input(\"enter the number:  \"))\n",
    "    f=1\n",
    "    for i in range(1,x+1):\n",
    "        f=f*i\n",
    "        \n",
    "    print(\"factorial of \",x,\" is \",f)\n",
    "    \n",
    "fact()"
   ]
  },
  {
   "cell_type": "code",
   "execution_count": 3,
   "id": "fd9cf1a5",
   "metadata": {},
   "outputs": [
    {
     "name": "stdout",
     "output_type": "stream",
     "text": [
      "enter the number:  6\n",
      "factorial of  6  is  720\n"
     ]
    }
   ],
   "source": [
    "fact()"
   ]
  },
  {
   "cell_type": "code",
   "execution_count": null,
   "id": "802dbe94",
   "metadata": {},
   "outputs": [],
   "source": []
  },
  {
   "cell_type": "code",
   "execution_count": 17,
   "id": "89249c93",
   "metadata": {},
   "outputs": [
    {
     "name": "stdout",
     "output_type": "stream",
     "text": [
      "enter the limit: 1\n",
      "Fibonacci sequence upto  1  numbers is : \n",
      "0\n"
     ]
    }
   ],
   "source": [
    "#fibonacci serires\n",
    "def fibonacci():\n",
    "\n",
    "    num = int(input(\"enter the limit: \"))\n",
    "\n",
    "    n1, n2 = 0, 1\n",
    "    count = 0\n",
    "\n",
    "    if num == 1:\n",
    "       print(\"Fibonacci sequence upto \",num,\" numbers is : \")\n",
    "       print(n1)\n",
    "\n",
    "    else:\n",
    "       print(\"Fibonacci sequence upto \",num,\" numbers is : \")\n",
    "       while count < num:\n",
    "            print(n1)\n",
    "            temp = n1 + n2\n",
    "            n1 = n2\n",
    "            n2 = temp\n",
    "            count += 1\n",
    "            \n",
    "fibonacci()"
   ]
  },
  {
   "cell_type": "code",
   "execution_count": 15,
   "id": "5b8f49bc",
   "metadata": {},
   "outputs": [
    {
     "name": "stdout",
     "output_type": "stream",
     "text": [
      "enter the limit: 10\n",
      "Fibonacci sequence upto  10  numbers is : \n",
      "0\n",
      "1\n",
      "1\n",
      "2\n",
      "3\n",
      "5\n",
      "8\n",
      "13\n",
      "21\n",
      "34\n"
     ]
    }
   ],
   "source": [
    "fibonacci()"
   ]
  },
  {
   "cell_type": "code",
   "execution_count": 18,
   "id": "bd0227e6",
   "metadata": {},
   "outputs": [
    {
     "name": "stdout",
     "output_type": "stream",
     "text": [
      "enter the limit: 3\n",
      "Fibonacci sequence upto  3  numbers is : \n",
      "0\n",
      "1\n",
      "1\n"
     ]
    }
   ],
   "source": [
    "fibonacci()"
   ]
  }
 ],
 "metadata": {
  "kernelspec": {
   "display_name": "Python 3",
   "language": "python",
   "name": "python3"
  },
  "language_info": {
   "codemirror_mode": {
    "name": "ipython",
    "version": 3
   },
   "file_extension": ".py",
   "mimetype": "text/x-python",
   "name": "python",
   "nbconvert_exporter": "python",
   "pygments_lexer": "ipython3",
   "version": "3.8.8"
  }
 },
 "nbformat": 4,
 "nbformat_minor": 5
}
